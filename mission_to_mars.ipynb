{
 "cells": [
  {
   "cell_type": "markdown",
   "metadata": {},
   "source": [
    "#### Scraping"
   ]
  },
  {
   "cell_type": "code",
   "execution_count": null,
   "metadata": {
    "collapsed": true
   },
   "outputs": [],
   "source": [
    "# dependencies\n",
    "from bs4 import BeautifulSoup\n",
    "import requests\n",
    "import pymongo\n",
    "from splinter import Browser\n",
    "import tweepy\n",
    "import time\n",
    "import pandas as pd"
   ]
  },
  {
   "cell_type": "markdown",
   "metadata": {},
   "source": [
    "#### NASA Mars News"
   ]
  },
  {
   "cell_type": "code",
   "execution_count": null,
   "metadata": {
    "collapsed": true
   },
   "outputs": [],
   "source": [
    "# Mars News URL\n",
    "url = \"https://mars.nasa.gov/news/\"\n",
    "\n",
    "# retrieve page w/requests module\n",
    "html = requests.get(url)\n",
    "\n",
    "# create BeautifulSoup object; parse with 'html.parser'\n",
    "soup = BeautifulSoup(html.text, 'html.parser')\n",
    "\n",
    "# get title + description\n",
    "news_title = soup.find('div', 'content_title', 'a').text\n",
    "news_p = soup.find('div', 'rollover_description_inner').text"
   ]
  },
  {
   "cell_type": "code",
   "execution_count": null,
   "metadata": {
    "collapsed": true
   },
   "outputs": [],
   "source": [
    "news_title"
   ]
  },
  {
   "cell_type": "markdown",
   "metadata": {},
   "source": [
    "#### JPL Mars Space Images"
   ]
  },
  {
   "cell_type": "code",
   "execution_count": null,
   "metadata": {
    "collapsed": true
   },
   "outputs": [],
   "source": [
    "# JPL Mars URL\n",
    "url = \"https://www.jpl.nasa.gov/spaceimages/?search=&category=Mars\"\n",
    "\n",
    "# set up splinter\n",
    "executable_path = {'executable_path': 'chromedriver.exe'}\n",
    "browser = Browser('chrome', **executable_path)\n",
    "browser.visit(url)\n",
    "\n",
    "# move through pages\n",
    "time.sleep(5)\n",
    "browser.click_link_by_partial_text('FULL IMAGE')\n",
    "time.sleep(5)\n",
    "browser.click_link_by_partial_text('more info')\n",
    "time.sleep(5)\n",
    "\n",
    "# create BeautifulSoup object; parse with 'html.parser'\n",
    "html = browser.html\n",
    "soup = BeautifulSoup(html, 'html.parser')\n",
    "\n",
    "# get featured image\n",
    "results = soup.find('article')\n",
    "extension = results.find('figure', 'lede').a['href']\n",
    "link = \"https://www.jpl.nasa.gov\"\n",
    "featured_image_url = link + extension"
   ]
  },
  {
   "cell_type": "markdown",
   "metadata": {},
   "source": [
    "#### Mars Weather"
   ]
  },
  {
   "cell_type": "code",
   "execution_count": null,
   "metadata": {
    "collapsed": true
   },
   "outputs": [],
   "source": [
    "# twitter API credentials\n",
    "consumer_key = open(\"Keys/consumer_key.txt\").read()\n",
    "consumer_secret = open(\"Keys/consumer_secret.txt\").read()\n",
    "access_token = open(\"Keys/access_token.txt\").read()\n",
    "access_token_secret = open(\"Keys/access_token_secret.txt\").read()\n",
    "\n",
    "# use Tweepy to authenticate\n",
    "auth = tweepy.OAuthHandler(consumer_key, consumer_secret)\n",
    "auth.set_access_token(access_token, access_token_secret)\n",
    "api = tweepy.API(auth, parser=tweepy.parsers.JSONParser())\n",
    "\n",
    "# target user\n",
    "target_user = \"@MarsWxReport\"\n",
    "\n",
    "# get tweet\n",
    "tweet = api.user_timeline(target_user, count=1)[0]\n",
    "\n",
    "# store weather\n",
    "mars_weather = tweet['text']"
   ]
  },
  {
   "cell_type": "markdown",
   "metadata": {},
   "source": [
    "#### Mars Facts"
   ]
  },
  {
   "cell_type": "code",
   "execution_count": null,
   "metadata": {
    "collapsed": true
   },
   "outputs": [],
   "source": [
    "# Mars Facts URL\n",
    "url = \"https://space-facts.com/mars/\"\n",
    "\n",
    "# retrieve page w/requests module\n",
    "html = requests.get(url)\n",
    "\n",
    "# create BeautifulSoup object; parse with 'html.parser'\n",
    "soup = BeautifulSoup(html.text, 'html.parser')\n",
    "\n",
    "# empty dict for info\n",
    "mars_profile = {}\n",
    "\n",
    "# get info\n",
    "results = soup.find('tbody').find_all('tr')\n",
    "\n",
    "# store profile info\n",
    "for result in results:\n",
    "    key = result.find('td', 'column-1').text.split(\":\")[0]\n",
    "    value = result.find('td', 'column-2').text\n",
    "    \n",
    "    mars_profile[key] = value\n",
    "    \n",
    "# create a dataframe\n",
    "profile_df = pd.DataFrame([mars_profile]).T.rename(columns = {0: \"Value\"})\n",
    "profile_df.index.rename(\"Description\", inplace=True)\n",
    "\n",
    "# convert to html\n",
    "profile_html = \"\".join(profile_df.to_html().split(\"\\n\"))"
   ]
  },
  {
   "cell_type": "markdown",
   "metadata": {},
   "source": [
    "#### Mars Hemispheres"
   ]
  },
  {
   "cell_type": "code",
   "execution_count": null,
   "metadata": {
    "collapsed": true
   },
   "outputs": [],
   "source": [
    "# Mars Hemispheres URL\n",
    "url = \"https://astrogeology.usgs.gov/search/results?q=hemisphere+enhanced&k1=target&v1=Mars\"\n",
    "\n",
    "# empty list of image urls\n",
    "hemisphere_image_urls = []"
   ]
  },
  {
   "cell_type": "markdown",
   "metadata": {},
   "source": [
    "##### Valles Marineris"
   ]
  },
  {
   "cell_type": "code",
   "execution_count": null,
   "metadata": {
    "collapsed": true
   },
   "outputs": [],
   "source": [
    "# set up splinter\n",
    "executable_path = {'executable_path': 'chromedriver.exe'}\n",
    "browser = Browser('chrome', **executable_path, headless=True)\n",
    "browser.visit(url)\n",
    "\n",
    "# move through pgs\n",
    "time.sleep(5)\n",
    "browser.click_link_by_partial_text('Valles Marineris Hemisphere Enhanced')\n",
    "time.sleep(5)\n",
    "\n",
    "# create BeautifulSoup object; parse with 'html.parser'\n",
    "html = browser.html\n",
    "soup = BeautifulSoup(html, 'html.parser')\n",
    "\n",
    "# store link\n",
    "valles_link = soup.find('div', 'downloads').a['href']\n",
    "\n",
    "# create dict\n",
    "valles_marineris = {\n",
    "    \"title\": \"Valles Marineris Hemisphere\",\n",
    "    \"img_url\": valles_link\n",
    "}\n",
    "\n",
    "# append dict\n",
    "hemisphere_image_urls.append(valles_marineris)"
   ]
  },
  {
   "cell_type": "markdown",
   "metadata": {},
   "source": [
    "##### Cerberus"
   ]
  },
  {
   "cell_type": "code",
   "execution_count": null,
   "metadata": {
    "collapsed": true
   },
   "outputs": [],
   "source": [
    "# set up splinter\n",
    "executable_path = {'executable_path': 'chromedriver.exe'}\n",
    "browser = Browser('chrome', **executable_path, headless=True)\n",
    "browser.visit(url)\n",
    "\n",
    "# move through pgs\n",
    "time.sleep(5)\n",
    "browser.click_link_by_partial_text('Cerberus Hemisphere Enhanced')\n",
    "time.sleep(5)\n",
    "\n",
    "# create BeautifulSoup object; parse with 'html.parser'\n",
    "html = browser.html\n",
    "soup = BeautifulSoup(html, 'html.parser')\n",
    "\n",
    "# store link\n",
    "cerberus_link = soup.find('div', 'downloads').a['href']\n",
    "\n",
    "# create dict\n",
    "cerberus = {\n",
    "    \"title\": \"Cerberus Hemisphere\",\n",
    "    \"img_url\": cerberus_link\n",
    "}\n",
    "\n",
    "# append dict\n",
    "hemisphere_image_urls.append(cerberus)"
   ]
  },
  {
   "cell_type": "markdown",
   "metadata": {},
   "source": [
    "##### Schiaparelli"
   ]
  },
  {
   "cell_type": "code",
   "execution_count": null,
   "metadata": {
    "collapsed": true
   },
   "outputs": [],
   "source": [
    "# set up splinter\n",
    "executable_path = {'executable_path': 'chromedriver.exe'}\n",
    "browser = Browser('chrome', **executable_path, headless=True)\n",
    "browser.visit(url)\n",
    "\n",
    "# move through pgs\n",
    "time.sleep(5)\n",
    "browser.click_link_by_partial_text('Schiaparelli Hemisphere Enhanced')\n",
    "time.sleep(5)\n",
    "\n",
    "# create BeautifulSoup object; parse with 'html.parser'\n",
    "html = browser.html\n",
    "soup = BeautifulSoup(html, 'html.parser')\n",
    "\n",
    "# store link\n",
    "schiaparelli_link = soup.find('div', 'downloads').a['href']\n",
    "\n",
    "# create dict\n",
    "schiaparelli = {\n",
    "    \"title\": \"Schiaparelli Hemisphere\",\n",
    "    \"img_url\": schiaparelli_link\n",
    "}\n",
    "\n",
    "# append dict\n",
    "hemisphere_image_urls.append(schiaparelli)"
   ]
  },
  {
   "cell_type": "markdown",
   "metadata": {},
   "source": [
    "##### Syrtis Major"
   ]
  },
  {
   "cell_type": "code",
   "execution_count": null,
   "metadata": {
    "collapsed": true
   },
   "outputs": [],
   "source": [
    "# set up splinter\n",
    "executable_path = {'executable_path': 'chromedriver.exe'}\n",
    "browser = Browser('chrome', **executable_path, headless=True)\n",
    "browser.visit(url)\n",
    "\n",
    "# move through pgs\n",
    "time.sleep(5)\n",
    "browser.click_link_by_partial_text('Syrtis Major Hemisphere Enhanced')\n",
    "time.sleep(5)\n",
    "\n",
    "# create BeautifulSoup object; parse with 'html.parser'\n",
    "html = browser.html\n",
    "soup = BeautifulSoup(html, 'html.parser')\n",
    "\n",
    "# store link\n",
    "syrtis_link = soup.find('div', 'downloads').a['href']\n",
    "\n",
    "# create dict\n",
    "syrtis_major = {\n",
    "    \"title\": \"Syrtis Major Hemisphere\",\n",
    "    \"img_url\": syrtis_link\n",
    "}\n",
    "\n",
    "# append dict\n",
    "hemisphere_image_urls.append(syrtis_major)"
   ]
  }
 ],
 "metadata": {
  "kernelspec": {
   "display_name": "Python 3",
   "language": "python",
   "name": "python3"
  },
  "language_info": {
   "codemirror_mode": {
    "name": "ipython",
    "version": 3
   },
   "file_extension": ".py",
   "mimetype": "text/x-python",
   "name": "python",
   "nbconvert_exporter": "python",
   "pygments_lexer": "ipython3",
   "version": "3.6.1"
  }
 },
 "nbformat": 4,
 "nbformat_minor": 2
}
